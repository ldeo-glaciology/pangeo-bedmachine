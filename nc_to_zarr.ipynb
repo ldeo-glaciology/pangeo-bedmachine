{
 "cells": [
  {
   "cell_type": "markdown",
   "metadata": {},
   "source": [
    "# Saving multiple netcdf dataset into zarr in the google bucket using the cluster \n",
    "Trial and errors and more info on some of the steps can be found in nc_to_zarr_testing"
   ]
  },
  {
   "cell_type": "code",
   "execution_count": 1,
   "metadata": {},
   "outputs": [],
   "source": [
    "import dask\n",
    "import dask.array as da\n",
    "import dask.delayed\n",
    "from dask.distributed import Client\n",
    "import dask_gateway\n",
    "import numpy as np\n",
    "import xarray as xr\n",
    "xr.set_options(display_style=\"html\")\n",
    "import fsspec\n",
    "import gcsfs\n",
    "import json"
   ]
  },
  {
   "cell_type": "markdown",
   "metadata": {},
   "source": [
    "### 1. Start a cluster"
   ]
  },
  {
   "cell_type": "code",
   "execution_count": 40,
   "metadata": {},
   "outputs": [
    {
     "name": "stderr",
     "output_type": "stream",
     "text": [
      "distributed.client - ERROR - Failed to reconnect to scheduler after 10.00 seconds, closing client\n",
      "_GatheringFuture exception was never retrieved\n",
      "future: <_GatheringFuture finished exception=CancelledError()>\n",
      "asyncio.exceptions.CancelledError\n",
      "distributed.client - ERROR - Failed to reconnect to scheduler after 10.00 seconds, closing client\n",
      "distributed.client - ERROR - Failed to reconnect to scheduler after 10.00 seconds, closing client\n",
      "_GatheringFuture exception was never retrieved\n",
      "future: <_GatheringFuture finished exception=CancelledError()>\n",
      "asyncio.exceptions.CancelledError\n",
      "_GatheringFuture exception was never retrieved\n",
      "future: <_GatheringFuture finished exception=CancelledError()>\n",
      "asyncio.exceptions.CancelledError\n"
     ]
    },
    {
     "data": {
      "text/plain": [
       "'/services/dask-gateway/clusters/prod.5e434112b31d49a39faae31121a50e29/status'"
      ]
     },
     "execution_count": 40,
     "metadata": {},
     "output_type": "execute_result"
    }
   ],
   "source": [
    "# get the dask-gateway version\n",
    "dask_gateway.__version__\n",
    "# show the default dask-gateway settings\n",
    "dask.config.config['gateway']\n",
    "#default gateway call\n",
    "gateway = dask_gateway.Gateway()\n",
    "# default new_cluster call\n",
    "cluster = gateway.new_cluster()\n",
    "#gateway = Gateway()\n",
    "gateway.list_clusters()\n",
    "# the dashboard_link property will show the link that can be pasted into the Dask labextension\n",
    "cluster.dashboard_link"
   ]
  },
  {
   "cell_type": "code",
   "execution_count": 41,
   "metadata": {},
   "outputs": [
    {
     "data": {
      "application/vnd.jupyter.widget-view+json": {
       "model_id": "5f541ce9a2da46598b4d8ef263ffc67c",
       "version_major": 2,
       "version_minor": 0
      },
      "text/plain": [
       "VBox(children=(HTML(value='<h2>GatewayCluster</h2>'), HBox(children=(HTML(value='\\n<div>\\n<style scoped>\\n    …"
      ]
     },
     "metadata": {},
     "output_type": "display_data"
    }
   ],
   "source": [
    "# scale cluster to 8 workers using the scale() method\n",
    "cluster.scale(8)\n",
    "# connect a client\n",
    "# the distributed client is used for running parallel tasks with Dask\n",
    "client = Client(cluster)\n",
    "cluster"
   ]
  },
  {
   "cell_type": "markdown",
   "metadata": {},
   "source": [
    "### 2. load the netcdf\n",
    "(defining chunk size to ensure itis a dask array)"
   ]
  },
  {
   "cell_type": "code",
   "execution_count": 42,
   "metadata": {},
   "outputs": [],
   "source": [
    "# the four line below come from https://github.com/pangeo-data/pangeo-datastore/issues/116#issuecomment-729928936\n",
    "gcs = gcsfs.GCSFileSystem()\n",
    "url = 'gs://ldeo-glaciology/bedmachine/BedMachineAntarctica_2019-11-05_v01.nc'  \n",
    "openfile = gcs.open(url, mode='rb') \n",
    "bm = xr.open_dataset(openfile, chunks=3000)\n",
    "\n",
    "# remove the variable mapping because it was causing an error in the write to zarr\n",
    "bm.attrs = {**bm.attrs, **bm.mapping.attrs} # but keep the information in the attributes of the whole dataset. \n",
    "bm = bm.drop('mapping')   # remove the variable. \n"
   ]
  },
  {
   "cell_type": "markdown",
   "metadata": {},
   "source": [
    "### 3. Add the token to the gcs object to make sure all the workers can write to the bucket)"
   ]
  },
  {
   "cell_type": "code",
   "execution_count": 44,
   "metadata": {},
   "outputs": [],
   "source": [
    "with open('../secrets/ldeo-glaciology-bc97b12df06b.json') as token_file:\n",
    "    token = json.load(token_file)\n",
    "gcs = gcsfs.GCSFileSystem(token=token)"
   ]
  },
  {
   "cell_type": "markdown",
   "metadata": {},
   "source": [
    "### 4. Save to zarr\n"
   ]
  },
  {
   "cell_type": "code",
   "execution_count": 47,
   "metadata": {},
   "outputs": [],
   "source": [
    "mapper = gcs.get_mapper('gs://ldeo-glaciology/bedmachine/bm6.zarr')\n",
    "bm.to_zarr(mapper, mode='w');"
   ]
  },
  {
   "cell_type": "markdown",
   "metadata": {},
   "source": [
    "### 5. Reload the zarr and check that it is the same as the original"
   ]
  },
  {
   "cell_type": "code",
   "execution_count": null,
   "metadata": {},
   "outputs": [],
   "source": [
    "bm_reloaded = xr.open_zarr(mapper)  \n",
    "bm_reloaded.identical(bm)"
   ]
  },
  {
   "cell_type": "code",
   "execution_count": 38,
   "metadata": {},
   "outputs": [],
   "source": [
    "cluster.shutdown()"
   ]
  }
 ],
 "metadata": {
  "kernelspec": {
   "display_name": "Python 3",
   "language": "python",
   "name": "python3"
  },
  "language_info": {
   "codemirror_mode": {
    "name": "ipython",
    "version": 3
   },
   "file_extension": ".py",
   "mimetype": "text/x-python",
   "name": "python",
   "nbconvert_exporter": "python",
   "pygments_lexer": "ipython3",
   "version": "3.8.6"
  }
 },
 "nbformat": 4,
 "nbformat_minor": 4
}
